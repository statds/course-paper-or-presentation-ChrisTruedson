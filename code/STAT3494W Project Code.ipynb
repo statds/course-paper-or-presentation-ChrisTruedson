{
 "cells": [
  {
   "cell_type": "code",
   "execution_count": 1,
   "id": "b00ac378",
   "metadata": {},
   "outputs": [],
   "source": [
    "import pandas as pd\n",
    "import numpy as np\n",
    "import matplotlib.pyplot as plt"
   ]
  },
  {
   "cell_type": "code",
   "execution_count": 4,
   "id": "2f162988",
   "metadata": {},
   "outputs": [],
   "source": [
    "loan_default = pd.read_csv('Loan_default.csv')"
   ]
  },
  {
   "cell_type": "code",
   "execution_count": 5,
   "id": "d43dd0b3",
   "metadata": {},
   "outputs": [
    {
     "name": "stdout",
     "output_type": "stream",
     "text": [
      "<class 'pandas.core.frame.DataFrame'>\n",
      "RangeIndex: 255347 entries, 0 to 255346\n",
      "Data columns (total 18 columns):\n",
      " #   Column          Non-Null Count   Dtype  \n",
      "---  ------          --------------   -----  \n",
      " 0   LoanID          255347 non-null  object \n",
      " 1   Age             255347 non-null  int64  \n",
      " 2   Income          255347 non-null  int64  \n",
      " 3   LoanAmount      255347 non-null  int64  \n",
      " 4   CreditScore     255347 non-null  int64  \n",
      " 5   MonthsEmployed  255347 non-null  int64  \n",
      " 6   NumCreditLines  255347 non-null  int64  \n",
      " 7   InterestRate    255347 non-null  float64\n",
      " 8   LoanTerm        255347 non-null  int64  \n",
      " 9   DTIRatio        255347 non-null  float64\n",
      " 10  Education       255347 non-null  object \n",
      " 11  EmploymentType  255347 non-null  object \n",
      " 12  MaritalStatus   255347 non-null  object \n",
      " 13  HasMortgage     255347 non-null  object \n",
      " 14  HasDependents   255347 non-null  object \n",
      " 15  LoanPurpose     255347 non-null  object \n",
      " 16  HasCoSigner     255347 non-null  object \n",
      " 17  Default         255347 non-null  int64  \n",
      "dtypes: float64(2), int64(8), object(8)\n",
      "memory usage: 35.1+ MB\n"
     ]
    }
   ],
   "source": [
    "loan_default.info()"
   ]
  },
  {
   "cell_type": "code",
   "execution_count": 6,
   "id": "8ea94442",
   "metadata": {},
   "outputs": [
    {
     "name": "stdout",
     "output_type": "stream",
     "text": [
      "Summary Statistics:\n",
      "                  Age         Income     LoanAmount    CreditScore  \\\n",
      "count  255347.000000  255347.000000  255347.000000  255347.000000   \n",
      "mean       43.498306   82499.304597  127578.865512     574.264346   \n",
      "std        14.990258   38963.013729   70840.706142     158.903867   \n",
      "min        18.000000   15000.000000    5000.000000     300.000000   \n",
      "25%        31.000000   48825.500000   66156.000000     437.000000   \n",
      "50%        43.000000   82466.000000  127556.000000     574.000000   \n",
      "75%        56.000000  116219.000000  188985.000000     712.000000   \n",
      "max        69.000000  149999.000000  249999.000000     849.000000   \n",
      "\n",
      "       MonthsEmployed  NumCreditLines   InterestRate       LoanTerm  \\\n",
      "count   255347.000000   255347.000000  255347.000000  255347.000000   \n",
      "mean        59.541976        2.501036      13.492773      36.025894   \n",
      "std         34.643376        1.117018       6.636443      16.969330   \n",
      "min          0.000000        1.000000       2.000000      12.000000   \n",
      "25%         30.000000        2.000000       7.770000      24.000000   \n",
      "50%         60.000000        2.000000      13.460000      36.000000   \n",
      "75%         90.000000        3.000000      19.250000      48.000000   \n",
      "max        119.000000        4.000000      25.000000      60.000000   \n",
      "\n",
      "            DTIRatio        Default  \n",
      "count  255347.000000  255347.000000  \n",
      "mean        0.500212       0.116128  \n",
      "std         0.230917       0.320379  \n",
      "min         0.100000       0.000000  \n",
      "25%         0.300000       0.000000  \n",
      "50%         0.500000       0.000000  \n",
      "75%         0.700000       0.000000  \n",
      "max         0.900000       1.000000  \n",
      "\n",
      "Number of Unique Values:\n",
      " LoanID            255347\n",
      "Age                   52\n",
      "Income            114620\n",
      "LoanAmount        158729\n",
      "CreditScore          550\n",
      "MonthsEmployed       120\n",
      "NumCreditLines         4\n",
      "InterestRate        2301\n",
      "LoanTerm               5\n",
      "DTIRatio              81\n",
      "Education              4\n",
      "EmploymentType         4\n",
      "MaritalStatus          3\n",
      "HasMortgage            2\n",
      "HasDependents          2\n",
      "LoanPurpose            5\n",
      "HasCoSigner            2\n",
      "Default                2\n",
      "dtype: int64\n",
      "\n",
      "Missing Value Counts:\n",
      " LoanID            0\n",
      "Age               0\n",
      "Income            0\n",
      "LoanAmount        0\n",
      "CreditScore       0\n",
      "MonthsEmployed    0\n",
      "NumCreditLines    0\n",
      "InterestRate      0\n",
      "LoanTerm          0\n",
      "DTIRatio          0\n",
      "Education         0\n",
      "EmploymentType    0\n",
      "MaritalStatus     0\n",
      "HasMortgage       0\n",
      "HasDependents     0\n",
      "LoanPurpose       0\n",
      "HasCoSigner       0\n",
      "Default           0\n",
      "dtype: int64\n",
      "\n",
      "Correlation Matrix:\n",
      "                      Age    Income  LoanAmount  CreditScore  MonthsEmployed  \\\n",
      "Age             1.000000 -0.001244   -0.002213    -0.000548       -0.000341   \n",
      "Income         -0.001244  1.000000   -0.000865    -0.001430        0.002675   \n",
      "LoanAmount     -0.002213 -0.000865    1.000000     0.001261        0.002817   \n",
      "CreditScore    -0.000548 -0.001430    0.001261     1.000000        0.000613   \n",
      "MonthsEmployed -0.000341  0.002675    0.002817     0.000613        1.000000   \n",
      "NumCreditLines -0.000890 -0.002016    0.000794     0.000016        0.001267   \n",
      "InterestRate   -0.001127 -0.002303   -0.002291     0.000436        0.000096   \n",
      "LoanTerm        0.000263 -0.000998    0.002538     0.001130       -0.001166   \n",
      "DTIRatio       -0.004689  0.000205    0.001122    -0.001039        0.001765   \n",
      "Default        -0.167783 -0.099119    0.086659    -0.034166       -0.097374   \n",
      "\n",
      "                NumCreditLines  InterestRate  LoanTerm  DTIRatio   Default  \n",
      "Age                  -0.000890     -0.001127  0.000263 -0.004689 -0.167783  \n",
      "Income               -0.002016     -0.002303 -0.000998  0.000205 -0.099119  \n",
      "LoanAmount            0.000794     -0.002291  0.002538  0.001122  0.086659  \n",
      "CreditScore           0.000016      0.000436  0.001130 -0.001039 -0.034166  \n",
      "MonthsEmployed        0.001267      0.000096 -0.001166  0.001765 -0.097374  \n",
      "NumCreditLines        1.000000     -0.000297 -0.000226 -0.000586  0.028330  \n",
      "InterestRate         -0.000297      1.000000  0.000892  0.000575  0.131273  \n",
      "LoanTerm             -0.000226      0.000892  1.000000  0.002273  0.000545  \n",
      "DTIRatio             -0.000586      0.000575  0.002273  1.000000  0.019236  \n",
      "Default               0.028330      0.131273  0.000545  0.019236  1.000000  \n"
     ]
    },
    {
     "name": "stderr",
     "output_type": "stream",
     "text": [
      "C:\\Users\\chris\\AppData\\Local\\Temp\\ipykernel_6556\\3826501490.py:11: FutureWarning: The default value of numeric_only in DataFrame.corr is deprecated. In a future version, it will default to False. Select only valid columns or specify the value of numeric_only to silence this warning.\n",
      "  correlation_matrix = loan_default.corr()\n"
     ]
    }
   ],
   "source": [
    "# Summary statistics for numerical columns\n",
    "summary_stats = loan_default.describe()\n",
    "\n",
    "# Number of unique values in each column\n",
    "unique_counts = loan_default.nunique()\n",
    "\n",
    "# Count of missing values in each column\n",
    "missing_counts = loan_default.isnull().sum()\n",
    "\n",
    "# Correlation matrix for numerical columns\n",
    "correlation_matrix = loan_default.corr()\n",
    "\n",
    "# Display these statistics\n",
    "print(\"Summary Statistics:\\n\", summary_stats)\n",
    "print(\"\\nNumber of Unique Values:\\n\", unique_counts)\n",
    "print(\"\\nMissing Value Counts:\\n\", missing_counts)\n",
    "print(\"\\nCorrelation Matrix:\\n\", correlation_matrix)"
   ]
  },
  {
   "cell_type": "code",
   "execution_count": null,
   "id": "381e64dc",
   "metadata": {},
   "outputs": [],
   "source": []
  }
 ],
 "metadata": {
  "kernelspec": {
   "display_name": "Python 3 (ipykernel)",
   "language": "python",
   "name": "python3"
  },
  "language_info": {
   "codemirror_mode": {
    "name": "ipython",
    "version": 3
   },
   "file_extension": ".py",
   "mimetype": "text/x-python",
   "name": "python",
   "nbconvert_exporter": "python",
   "pygments_lexer": "ipython3",
   "version": "3.11.4"
  }
 },
 "nbformat": 4,
 "nbformat_minor": 5
}
